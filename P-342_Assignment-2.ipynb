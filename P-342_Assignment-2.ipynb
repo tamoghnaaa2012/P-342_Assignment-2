{
 "cells": [
  {
   "cell_type": "code",
   "execution_count": null,
   "metadata": {},
   "outputs": [],
   "source": [
    "#TAMOGHNA PATTANAYAK,Roll-1811168\n",
    "#Assignment-2"
   ]
  },
  {
   "cell_type": "code",
   "execution_count": 26,
   "metadata": {},
   "outputs": [
    {
     "name": "stdout",
     "output_type": "stream",
     "text": [
      "Diff: 0\n",
      "Diff: 1\n",
      "Diff: 2\n",
      "Diff: 3\n",
      "Diff: 4\n",
      "Diff: 5\n",
      "Sum 15.0\n",
      "Diff: 1\n",
      "Diff: 0\n",
      "Diff: 1\n",
      "Diff: 2\n",
      "Diff: 3\n",
      "Diff: 4\n",
      "Sum 26.0\n",
      "Diff: 2\n",
      "Diff: 1\n",
      "Diff: 0\n",
      "Diff: 1\n",
      "Diff: 2\n",
      "Diff: 3\n",
      "Sum 35.0\n",
      "Diff: 3\n",
      "Diff: 2\n",
      "Diff: 1\n",
      "Diff: 0\n",
      "Diff: 1\n",
      "Diff: 2\n",
      "Sum 44.0\n",
      "Diff: 4\n",
      "Diff: 3\n",
      "Diff: 2\n",
      "Diff: 1\n",
      "Diff: 0\n",
      "Diff: 1\n",
      "Sum 55.0\n",
      "Diff: 5\n",
      "Diff: 4\n",
      "Diff: 3\n",
      "Diff: 2\n",
      "Diff: 1\n",
      "Diff: 0\n",
      "Sum 70.0\n",
      "Total distance between two points: 70.0\n",
      "Total number of count is 36\n",
      "The average distance between two points is 1.9444444444444444\n"
     ]
    }
   ],
   "source": [
    "#Assignment 2(1-a)\n",
    "# Find the average distance between two points on straight line made of discrete N (=6) points:\to---o---o---o---o---o\n",
    "\n",
    "\n",
    "\n",
    "difference=0\n",
    "sum =0.0\n",
    "for i in range(6):\n",
    "    for j in range(6):\n",
    "        if j>i:\n",
    "            difference=j-i\n",
    "        else:\n",
    "            difference=i-j\n",
    "        print(\"Diff:\",difference)\n",
    "        sum= sum +difference\n",
    "        \n",
    "    print(\"Sum\",sum)\n",
    "pairs=(6*6)    \n",
    "print(\"Total distance between two points:\",sum)\n",
    "print(\"Total number of count is\",pairs)\n",
    "\n",
    "average_dist = sum/pairs\n",
    "print(\"The average distance between two points is\",average_dist)\n"
   ]
  },
  {
   "cell_type": "code",
   "execution_count": 27,
   "metadata": {},
   "outputs": [
    {
     "name": "stdout",
     "output_type": "stream",
     "text": [
      "Total distance between two points: 5040.0\n",
      "Total number of count is 1296\n",
      "The average distance between two points is 3.888888888888889\n"
     ]
    }
   ],
   "source": [
    "#Assignment 2(1-b)\n",
    "#Find the average distance between two points on 6 by 6 two-dimensional grid (no diagonal connections):\n",
    "\n",
    "\n",
    "\n",
    "sum =0.0\n",
    "for i in range(6):\n",
    "    for j in range(6):\n",
    "        for k in range(6):\n",
    "            for l in range(6):\n",
    "                sum = sum + (abs(i-k)+abs(j-i))\n",
    "        \n",
    "        \n",
    "\n",
    "pairs=(36*36)    \n",
    "print(\"Total distance between two points:\",sum)\n",
    "print(\"Total number of count is\",pairs)\n",
    "\n",
    "average_dist = sum/pairs\n",
    "print(\"The average distance between two points is\",average_dist)\n"
   ]
  },
  {
   "cell_type": "code",
   "execution_count": 31,
   "metadata": {},
   "outputs": [
    {
     "name": "stdout",
     "output_type": "stream",
     "text": [
      "Enter the size of grid horizontally: 6\n",
      "Enter the size of grid vetically:6\n",
      "Sum of distance is 5040\n",
      "Total number of count is 1296\n",
      "The average distance between two points is 3.888888888888889\n"
     ]
    }
   ],
   "source": [
    "#Question 1\n",
    "#In this code we can solve both case.\n",
    "\n",
    "#for Q_1(a): input will be a=6,b=1\n",
    "#for Q_1(b):input will be a=6,b=6........even we can use random number\n",
    "\n",
    "\n",
    "\n",
    "\n",
    "a = int(input(\"Enter the size of grid horizontally: \"))\n",
    "b = int(input(\"Enter the size of grid vetically:\"))\n",
    "\n",
    "points = []\n",
    "\n",
    "for m in range(a):\n",
    "    for n in range(b):\n",
    "        points.append([m,n])\n",
    "        n =n+ 1\n",
    "    m =m+1    \n",
    "\n",
    "sum = 0\n",
    "pairs = (a*b)**2\n",
    "\n",
    "total_points = len(points)\n",
    "for i in range(total_points):\n",
    "    x1,y1 = points[i]\n",
    "    for j in range(total_points):\n",
    "        x2,y2 = points[j]\n",
    "        sum = sum + (abs(x2 - x1) + abs(y2 - y1))\n",
    "\n",
    "print(\"Sum of distance is\",sum)\n",
    "print(\"Total number of count is\",pairs)\n",
    "\n",
    "average_dist = sum/pairs\n",
    "print(\"The average distance between two points is\",average_dist)\n"
   ]
  },
  {
   "cell_type": "code",
   "execution_count": 29,
   "metadata": {},
   "outputs": [
    {
     "name": "stdout",
     "output_type": "stream",
     "text": [
      "[10, 14, -18]\n",
      "6\n",
      "[7, 9, 7]\n"
     ]
    }
   ],
   "source": [
    "#Assignment-2(Q-2)\n",
    "#Create two vectors of type A=(a1,a2,a3) and B=(b1,b2,b3) with numbers of your choice in the code itself. \n",
    "#Find A+B and A.B (dot product)\n",
    "\n",
    "\n",
    "\n",
    "A = [2,2,-2]\n",
    "B = [5,7,9]\n",
    "dotproduct=0\n",
    "\n",
    "for i,j in zip(A,B):\n",
    "    c=[i*j for i,j in zip(A,B)]\n",
    "    #print(c)\n",
    "    dotproduct += i*j\n",
    "    \n",
    "print(c)    \n",
    "print(dotproduct) \n",
    "\n",
    "\n",
    "sum=0\n",
    "for i,j in zip(A,B):\n",
    "    d=[i+j for i,j in zip(A,B)]\n",
    "    \n",
    "print(d)    #Assignment-2(Q-2)"
   ]
  },
  {
   "cell_type": "code",
   "execution_count": 30,
   "metadata": {},
   "outputs": [
    {
     "name": "stdout",
     "output_type": "stream",
     "text": [
      "Vector A is [2, 2, -2]\n",
      "Marix M is: \n",
      "[1, 2, 3]\n",
      "[4, 5, 6]\n",
      "[7, 8, 9]\n",
      "Matrix N is: \n",
      "[1, 2, 3]\n",
      "[4, 5, 6]\n",
      "[7, 8, 9]\n",
      "The vector B = A x M = [0, 6, 12]\n",
      "Matrix C = M x N is: \n",
      "[30, 36, 42]\n",
      "[66, 81, 96]\n",
      "[102, 126, 150]\n"
     ]
    }
   ],
   "source": [
    "#Assignment-2(Q-3)\n",
    "#Create 3x3 matrices M=(a11,a12 … a33) and N=(b11,b12, …, b33) with numbers of your\n",
    "#choice (zeros, negatives and positives but not random numbers) in two separate files. Read the matrices from the files. Find M x A and M x N\n",
    "\n",
    "\n",
    "vector_A = [2,2,-2]\n",
    "\n",
    "with open(\"Mat11.txt\", 'r' ) as p:\n",
    "    mat_M = [[int(num) for num in line.split(' ')] for line in p]\n",
    "with open(\"Mat22.txt\", 'r' ) as q:\n",
    "    mat_N = [[int(num) for num in line.split(' ')] for line in q]\n",
    "\n",
    "\n",
    "print(\"Vector A is\", vector_A)\n",
    "print(\"Marix M is: \")\n",
    "for i in mat_M:\n",
    "    print(i)\n",
    "print(\"Matrix N is: \")\n",
    "for i in mat_N:\n",
    "    print(i)\n",
    "\n",
    "# Matrix operation on vector \n",
    "vector_B = [0,0,0]\n",
    "\n",
    "for i in range(len(mat_M)):\n",
    "    for j in range(len(mat_M[i])):\n",
    "        vector_B[i] += mat_M[i][j]*vector_A[j]\n",
    "\n",
    "print(\"The vector B = A x M =\", vector_B)\n",
    "\n",
    "\n",
    "# Product of matrix\n",
    "mat_C = [[0,0,0],[0,0,0],[0,0,0]]\n",
    "for i in range(len(mat_M)):\n",
    "    for j in range(len(mat_N)):\n",
    "        for k in range(len(mat_N[j])):\n",
    "            mat_C[i][j] += mat_N[k][j] * mat_M[i][k]\n",
    "\n",
    "print(\"Matrix C = M x N is: \")\n",
    "for i in mat_C:\n",
    "    print(i)"
   ]
  },
  {
   "cell_type": "code",
   "execution_count": null,
   "metadata": {},
   "outputs": [],
   "source": []
  }
 ],
 "metadata": {
  "kernelspec": {
   "display_name": "Python 3",
   "language": "python",
   "name": "python3"
  },
  "language_info": {
   "codemirror_mode": {
    "name": "ipython",
    "version": 3
   },
   "file_extension": ".py",
   "mimetype": "text/x-python",
   "name": "python",
   "nbconvert_exporter": "python",
   "pygments_lexer": "ipython3",
   "version": "3.7.7"
  }
 },
 "nbformat": 4,
 "nbformat_minor": 4
}
